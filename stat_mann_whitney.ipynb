{
 "cells": [
  {
   "cell_type": "code",
   "execution_count": 1,
   "metadata": {},
   "outputs": [
    {
     "name": "stdout",
     "output_type": "stream",
     "text": [
      "Statistics=4025.000, p=0.017\n",
      "Different distribution (reject H0)\n"
     ]
    }
   ],
   "source": [
    "# Mann-Whitney U test\n",
    "from numpy.random import seed\n",
    "from numpy.random import randn\n",
    "from scipy.stats import mannwhitneyu\n",
    "# seed the random number generator\n",
    "seed(1)\n",
    "# generate two independent samples\n",
    "data1 = 5 * randn(100) + 50\n",
    "data2 = 5 * randn(100) + 51\n",
    "# compare samples\n",
    "stat, p = mannwhitneyu(data1, data2)\n",
    "print('Statistics=%.3f, p=%.3f' % (stat, p))\n",
    "# interpret\n",
    "alpha = 0.05\n",
    "if p > alpha:\n",
    "    print('Same distribution (fail to reject H0)')\n",
    "else:\n",
    "    print('Different distribution (reject H0)')"
   ]
  },
  {
   "cell_type": "code",
   "execution_count": 2,
   "metadata": {},
   "outputs": [
    {
     "data": {
      "text/plain": [
       "array([58.12172682, 46.94121793, 47.35914124, 44.63515689, 54.32703815,\n",
       "       38.49230652, 58.72405882, 46.1939655 , 51.59519548, 48.75314812,\n",
       "       57.31053969, 39.69929645, 48.38791398, 48.07972823, 55.66884721,\n",
       "       44.50054366, 49.13785896, 45.61070791, 50.21106873, 52.91407607,\n",
       "       44.49690411, 55.72361855, 54.5079536 , 52.51247169, 54.50427975,\n",
       "       46.5813607 , 49.38554887, 45.32115283, 48.6605596 , 52.65177733,\n",
       "       46.54169624, 48.01623237, 46.5641365 , 45.77397179, 46.64376935,\n",
       "       49.93667701, 44.41344826, 51.17207849, 58.29901089, 53.7102208 ,\n",
       "       49.04082224, 45.56185518, 46.26420853, 58.46227301, 50.25403877,\n",
       "       46.81502177, 50.95457742, 60.50127568, 50.60079476, 53.08601555,\n",
       "       51.5008516 , 48.23875077, 44.28740901, 48.25328639, 48.95552883,\n",
       "       52.93311596, 54.19491707, 54.65551041, 51.42793663, 54.42570582,\n",
       "       46.2280103 , 56.26434078, 52.5646491 , 48.50953582, 52.44259073,\n",
       "       49.62214143, 55.65814694, 57.59908408, 60.92787703, 43.01751832,\n",
       "       42.77943097, 47.47767069, 50.80018535, 54.38084461, 51.57817474,\n",
       "       39.88899392, 48.46897994, 54.13987321, 51.15047368, 53.8100559 ,\n",
       "       48.88835929, 48.99620966, 50.93280695, 52.05025824, 50.9914986 ,\n",
       "       50.59504323, 46.64668857, 51.88781893, 50.60910635, 55.64741954,\n",
       "       55.9945894 , 50.92578209, 48.12357525, 46.80634796, 52.11747177,\n",
       "       50.38670034, 48.28073162, 50.21798428, 46.89999578, 53.49016017])"
      ]
     },
     "execution_count": 2,
     "metadata": {},
     "output_type": "execute_result"
    }
   ],
   "source": [
    "data1\n"
   ]
  },
  {
   "cell_type": "code",
   "execution_count": null,
   "metadata": {},
   "outputs": [],
   "source": []
  }
 ],
 "metadata": {
  "kernelspec": {
   "display_name": "Python 3",
   "language": "python",
   "name": "python3"
  },
  "language_info": {
   "codemirror_mode": {
    "name": "ipython",
    "version": 3
   },
   "file_extension": ".py",
   "mimetype": "text/x-python",
   "name": "python",
   "nbconvert_exporter": "python",
   "pygments_lexer": "ipython3",
   "version": "3.8.11"
  }
 },
 "nbformat": 4,
 "nbformat_minor": 4
}
